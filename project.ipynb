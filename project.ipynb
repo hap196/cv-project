{
 "cells": [
  {
   "cell_type": "markdown",
   "metadata": {},
   "source": [
    "# CV Final Project Notebook\n",
    "Hailey Pan, Hannah Tao"
   ]
  },
  {
   "cell_type": "markdown",
   "metadata": {},
   "source": [
    "## Part 1: Generating the Dataset\n",
    "\n",
    "Since we did not have access to a prior dataset, we used a diffusion model to generate black hole images."
   ]
  },
  {
   "cell_type": "markdown",
   "metadata": {},
   "source": [
    "#### Setup"
   ]
  },
  {
   "cell_type": "markdown",
   "metadata": {},
   "source": [
    "1. First, you must clone the InverseBench repository to be able to access the Diffusion model tools.\n",
    "\n",
    "    In your terminal, run git clone https://github.com/devzhk/InverseBench.git\n",
    "\n",
    "2. Then, you should download the blackhole diffusion model here: https://github.com/devzhk/InverseBench/releases/download/diffusion-prior/blackhole-50k.pt\n",
    "\n",
    "3. Make sure that the repository and .pt model are in the same directory as this .ipynb file"
   ]
  },
  {
   "cell_type": "code",
   "execution_count": 1,
   "metadata": {},
   "outputs": [],
   "source": [
    "import torch\n",
    "import numpy as np\n",
    "import matplotlib.pyplot as plt\n",
    "import os\n",
    "import argparse\n",
    "from tqdm import tqdm\n",
    "import sys"
   ]
  },
  {
   "cell_type": "code",
   "execution_count": 3,
   "metadata": {},
   "outputs": [],
   "source": [
    "sys.path.append('InverseBench')\n",
    "\n",
    "from utils.scheduler import Scheduler\n",
    "from utils.diffusion import DiffusionSampler\n",
    "from models.precond import VPPrecond\n",
    "from models.unets import SongUNet"
   ]
  },
  {
   "cell_type": "markdown",
   "metadata": {},
   "source": [
    "### Helper functions"
   ]
  },
  {
   "cell_type": "code",
   "execution_count": 7,
   "metadata": {},
   "outputs": [],
   "source": [
    "def save_images(images, output_dir):\n",
    "    \"\"\"\n",
    "        saves generated images to the specified output directory\n",
    "    \"\"\"\n",
    "\n",
    "    # create the output directory\n",
    "    os.makedirs(output_dir, exist_ok=True)\n",
    "    \n",
    "    for i, img in enumerate(images):\n",
    "        # convert tensor to numpy array\n",
    "        if isinstance(img, torch.Tensor):\n",
    "            img = img.squeeze().cpu().numpy()\n",
    "        \n",
    "        # scale the image\n",
    "        if img.max() > 1.0:\n",
    "            img = img / 255.0\n",
    "        \n",
    "        # save the image\n",
    "        plt.figure(figsize=(5, 5))\n",
    "        plt.imshow(img, cmap='viridis')\n",
    "        plt.axis('off')\n",
    "        plt.tight_layout()\n",
    "        plt.savefig(os.path.join(output_dir, f'blackhole_{i:03d}.png'), dpi=300, bbox_inches='tight')\n",
    "        plt.close()\n",
    "        \n",
    "        # save as numpy array for further processing\n",
    "        np.save(os.path.join(output_dir, f'blackhole_{i:03d}.npy'), img)"
   ]
  },
  {
   "cell_type": "code",
   "execution_count": 8,
   "metadata": {},
   "outputs": [],
   "source": [
    "def create_model_from_checkpoint(checkpoint, device):\n",
    "    \"\"\"\n",
    "        creates a VPPrecond model from the checkpoint\n",
    "    \"\"\"\n",
    "    # use the model parameters based on configs/pretrain/blackhole.yaml (from the InverseBench repo)\n",
    "    model = VPPrecond(\n",
    "        img_resolution=64,\n",
    "        img_channels=1,\n",
    "        label_dim=0,\n",
    "        model_type='SongUNet',\n",
    "        model_channels=128, \n",
    "        channel_mult=[1, 2, 2],\n",
    "        attn_resolutions=[16],\n",
    "        num_blocks=1,\n",
    "        dropout=0.0\n",
    "    ).to(device)\n",
    "    \n",
    "    # extract state dict from the checkpoint\n",
    "    if 'ema' in checkpoint:\n",
    "        state_dict = checkpoint['ema']\n",
    "    elif 'net' in checkpoint:\n",
    "        state_dict = checkpoint['net']\n",
    "    else:\n",
    "        state_dict = checkpoint\n",
    "    \n",
    "    # load state dictionary\n",
    "    model.load_state_dict(state_dict)\n",
    "    \n",
    "    return model"
   ]
  },
  {
   "cell_type": "code",
   "execution_count": 9,
   "metadata": {},
   "outputs": [],
   "source": [
    "def generate_samples(model, num_samples, img_resolution, steps, device, schedule='linear', timestep='poly-7', scaling='none'):\n",
    "    \"\"\"\n",
    "        generates num_samples images using the diffusion model\n",
    "    \"\"\"\n",
    "\n",
    "    # create scheduler. this will be used to sample the models\n",
    "    scheduler = Scheduler(\n",
    "        num_steps=steps,\n",
    "        sigma_max=80.0,\n",
    "        sigma_min=0.002,\n",
    "        schedule=schedule,\n",
    "        timestep=timestep,\n",
    "        scaling=scaling\n",
    "    )\n",
    "    \n",
    "    # initialize the model\n",
    "    sampler = DiffusionSampler(scheduler)\n",
    "    \n",
    "    # create starting noise\n",
    "    x_start = torch.randn(\n",
    "        num_samples, \n",
    "        model.img_channels, \n",
    "        img_resolution, \n",
    "        img_resolution, \n",
    "        device=device\n",
    "    ) * scheduler.sigma_max\n",
    "    \n",
    "    print(f\"generating {num_samples} images...\")\n",
    "    with torch.no_grad():\n",
    "        # sample from the diffusion model\n",
    "        model.eval()\n",
    "        samples = sampler.sample(model, x_start, SDE=False, verbose=True)\n",
    "    \n",
    "    # normalize samples to [0, 1]\n",
    "    samples = (samples - samples.min()) / (samples.max() - samples.min())\n",
    "    \n",
    "    return samples"
   ]
  },
  {
   "cell_type": "markdown",
   "metadata": {},
   "source": [
    "#### Configure and run the diffusion model"
   ]
  },
  {
   "cell_type": "code",
   "execution_count": 19,
   "metadata": {},
   "outputs": [
    {
     "name": "stdout",
     "output_type": "stream",
     "text": [
      "using device: cpu\n",
      "loading model from blackhole-50k.pt\n"
     ]
    }
   ],
   "source": [
    "config = {\n",
    "    'model_path': 'blackhole-50k.pt',\n",
    "    'num_samples': 1,\n",
    "    'output_dir': 'generated_blackholes',\n",
    "    'image_size': 64,\n",
    "    'steps': 200,\n",
    "    'seed': 42,\n",
    "    'schedule': 'linear',\n",
    "    'timestep': 'poly-7',\n",
    "    'scaling': 'none'\n",
    "}\n",
    "    \n",
    "torch.manual_seed(config['seed'])\n",
    "np.random.seed(config['seed'])\n",
    "    \n",
    "device = torch.device('cuda' if torch.cuda.is_available() else 'cpu')\n",
    "print(f\"using device: {device}\")\n",
    "    \n",
    "# load the pretrained model\n",
    "print(f\"loading model from {config['model_path']}\")\n",
    "checkpoint = torch.load(config['model_path'], map_location=device)\n",
    "    "
   ]
  },
  {
   "cell_type": "code",
   "execution_count": 26,
   "metadata": {},
   "outputs": [
    {
     "name": "stdout",
     "output_type": "stream",
     "text": [
      "generating 1 images...\n"
     ]
    },
    {
     "name": "stderr",
     "output_type": "stream",
     "text": [
      "Sampling: 100%|██████████| 200/200 [00:18<00:00, 10.96it/s]\n"
     ]
    },
    {
     "name": "stdout",
     "output_type": "stream",
     "text": [
      "saving images to generated_blackholes\n",
      "saved 1 images\n"
     ]
    }
   ],
   "source": [
    "# create the model\n",
    "model = create_model_from_checkpoint(checkpoint, device)\n",
    "model.eval()\n",
    "\n",
    "samples = generate_samples(\n",
    "    model, \n",
    "    config['num_samples'], \n",
    "    config['image_size'], \n",
    "    config['steps'], \n",
    "    device,\n",
    "    schedule=config['schedule'],\n",
    "    timestep=config['timestep'],\n",
    "    scaling=config['scaling']\n",
    ")        \n",
    "        \n",
    "print(f\"saving images to {config['output_dir']}\")\n",
    "save_images(samples, config['output_dir'])\n",
    "print(f\"saved {len(samples)} images\")"
   ]
  },
  {
   "cell_type": "code",
   "execution_count": 25,
   "metadata": {},
   "outputs": [
    {
     "data": {
      "text/plain": [
       "(np.float64(-0.5), np.float64(63.5), np.float64(63.5), np.float64(-0.5))"
      ]
     },
     "execution_count": 25,
     "metadata": {},
     "output_type": "execute_result"
    },
    {
     "data": {
      "image/png": "[encoded data removed]",
      "text/plain": [
       "<Figure size 1000x500 with 1 Axes>"
      ]
     },
     "metadata": {},
     "output_type": "display_data"
    }
   ],
   "source": [
    "# display an example\n",
    "plt.figure(figsize=(10, 5))\n",
    "plt.subplot(1, 2, 1)\n",
    "plt.imshow(samples[0].squeeze().cpu().numpy(), cmap='viridis')\n",
    "plt.title(\"example generated black hole\")\n",
    "plt.axis('off')"
   ]
  }
 ],
 "metadata": {
  "kernelspec": {
   "display_name": "Python 3",
   "language": "python",
   "name": "python3"
  },
  "language_info": {
   "codemirror_mode": {
    "name": "ipython",
    "version": 3
   },
   "file_extension": ".py",
   "mimetype": "text/x-python",
   "name": "python",
   "nbconvert_exporter": "python",
   "pygments_lexer": "ipython3",
   "version": "3.10.15"
  }
 },
 "nbformat": 4,
 "nbformat_minor": 2
}
